{
 "cells": [
  {
   "cell_type": "code",
   "execution_count": 1,
   "id": "7ec7f9f0",
   "metadata": {
    "_cell_guid": "b1076dfc-b9ad-4769-8c92-a6c4dae69d19",
    "_uuid": "8f2839f25d086af736a60e9eeb907d3b93b6e0e5",
    "execution": {
     "iopub.execute_input": "2022-08-26T12:04:59.505606Z",
     "iopub.status.busy": "2022-08-26T12:04:59.504911Z",
     "iopub.status.idle": "2022-08-26T12:05:00.907089Z",
     "shell.execute_reply": "2022-08-26T12:05:00.906071Z"
    },
    "papermill": {
     "duration": 1.416196,
     "end_time": "2022-08-26T12:05:00.910028",
     "exception": false,
     "start_time": "2022-08-26T12:04:59.493832",
     "status": "completed"
    },
    "tags": []
   },
   "outputs": [],
   "source": [
    "import numpy as np\n",
    "import pandas as pd\n",
    "import os\n",
    "import matplotlib.pyplot as plt\n",
    "from sklearn.model_selection import train_test_split\n",
    "from sklearn import tree\n",
    "from sklearn.metrics import accuracy_score\n",
    "\n",
    "# temporary files: /kaggle/temp/, but they won't be saved outside of the current session"
   ]
  },
  {
   "cell_type": "code",
   "execution_count": 2,
   "id": "1923412c",
   "metadata": {
    "execution": {
     "iopub.execute_input": "2022-08-26T12:05:00.928187Z",
     "iopub.status.busy": "2022-08-26T12:05:00.927325Z",
     "iopub.status.idle": "2022-08-26T12:05:00.991239Z",
     "shell.execute_reply": "2022-08-26T12:05:00.989832Z"
    },
    "papermill": {
     "duration": 0.076557,
     "end_time": "2022-08-26T12:05:00.994718",
     "exception": false,
     "start_time": "2022-08-26T12:05:00.918161",
     "status": "completed"
    },
    "tags": []
   },
   "outputs": [
    {
     "name": "stdout",
     "output_type": "stream",
     "text": [
      "Train data\n",
      "PassengerId    False\n",
      "Survived       False\n",
      "Pclass         False\n",
      "Name           False\n",
      "Sex            False\n",
      "Age             True\n",
      "SibSp          False\n",
      "Parch          False\n",
      "Ticket         False\n",
      "Fare           False\n",
      "Cabin           True\n",
      "Embarked        True\n",
      "dtype: bool\n",
      "Test data\n",
      "PassengerId    False\n",
      "Pclass         False\n",
      "Name           False\n",
      "Sex            False\n",
      "Age             True\n",
      "SibSp          False\n",
      "Parch          False\n",
      "Ticket         False\n",
      "Fare            True\n",
      "Cabin           True\n",
      "Embarked       False\n",
      "dtype: bool\n"
     ]
    }
   ],
   "source": [
    "# read data and check for null\n",
    "dt = pd.read_csv('../input/titanic/train.csv')\n",
    "test = pd.read_csv('../input/titanic/test.csv')\n",
    "\n",
    "print('Train data')\n",
    "dt.head()\n",
    "dt.describe()\n",
    "print(dt.isnull().any())\n",
    "print('Test data')\n",
    "print(test.isnull().any())"
   ]
  },
  {
   "cell_type": "code",
   "execution_count": 3,
   "id": "51d65d1f",
   "metadata": {
    "execution": {
     "iopub.execute_input": "2022-08-26T12:05:01.012386Z",
     "iopub.status.busy": "2022-08-26T12:05:01.011986Z",
     "iopub.status.idle": "2022-08-26T12:05:01.021102Z",
     "shell.execute_reply": "2022-08-26T12:05:01.019838Z"
    },
    "papermill": {
     "duration": 0.021062,
     "end_time": "2022-08-26T12:05:01.023824",
     "exception": false,
     "start_time": "2022-08-26T12:05:01.002762",
     "status": "completed"
    },
    "tags": []
   },
   "outputs": [],
   "source": [
    "# code category into binary var\n",
    "gender = {'male': 0, 'female': 1}\n",
    "dt['Sex_bin'] = pd.DataFrame([gender[g] for g in dt.Sex])\n",
    "test['Sex_bin'] = pd.DataFrame([gender[g] for g in test.Sex])"
   ]
  },
  {
   "cell_type": "code",
   "execution_count": 4,
   "id": "0788139b",
   "metadata": {
    "execution": {
     "iopub.execute_input": "2022-08-26T12:05:01.042372Z",
     "iopub.status.busy": "2022-08-26T12:05:01.041975Z",
     "iopub.status.idle": "2022-08-26T12:05:01.320599Z",
     "shell.execute_reply": "2022-08-26T12:05:01.319383Z"
    },
    "papermill": {
     "duration": 0.290757,
     "end_time": "2022-08-26T12:05:01.322970",
     "exception": false,
     "start_time": "2022-08-26T12:05:01.032213",
     "status": "completed"
    },
    "tags": []
   },
   "outputs": [
    {
     "data": {
      "image/png": "[encoded data removed]",
      "text/plain": [
       "<Figure size 432x288 with 1 Axes>"
      ]
     },
     "metadata": {
      "needs_background": "light"
     },
     "output_type": "display_data"
    },
    {
     "name": "stdout",
     "output_type": "stream",
     "text": [
      "512.3292\n",
      "Lower whisker:  0.0\n",
      "Upper whisker:  65.0\n"
     ]
    },
    {
     "data": {
      "image/png": "[encoded data removed]",
      "text/plain": [
       "<Figure size 432x288 with 1 Axes>"
      ]
     },
     "metadata": {
      "needs_background": "light"
     },
     "output_type": "display_data"
    }
   ],
   "source": [
    "### handling fare outliers\n",
    "# find lower and upper whisker of a boxplot (representing min and max of middle 50% interval)\n",
    "plt.boxplot(dt.Fare)\n",
    "plt.show()\n",
    "\n",
    "# q1 = train.Fare.quantile(0.25)\n",
    "# q3 = train.Fare.quantile(0.75)\n",
    "# low_whisker = train.Fare[train.Fare >= q1 - 1.5*(q3-q1)].min()\n",
    "# upp_whisker = train.Fare[train.Fare <= q3 + 1.5*(q3-q1)].max()\n",
    "\n",
    "def remove_fare_outliers(df):\n",
    "    fare_boxplot = plt.boxplot(df.Fare)\n",
    "    plt.close()\n",
    "\n",
    "    [low_whisker, upp_whisker] = [item.get_ydata()[1] for item in fare_boxplot['whiskers']]\n",
    "    print(\"Lower whisker: \", low_whisker)\n",
    "    print(\"Upper whisker: \", upp_whisker)\n",
    "\n",
    "    # create new column with replaced values\n",
    "    df['Fare_wt_outliers'] = df['Fare']\n",
    "    df.loc[df.Fare_wt_outliers < low_whisker, 'Fare_wt_outliers'] = low_whisker\n",
    "    df.loc[df.Fare_wt_outliers > upp_whisker, 'Fare_wt_outliers'] = upp_whisker\n",
    "    \n",
    "    return df\n",
    "\n",
    "print(dt.Fare.max())\n",
    "dt = remove_fare_outliers(dt)\n",
    "plt.boxplot(dt.Fare_wt_outliers)\n",
    "plt.show()\n"
   ]
  },
  {
   "cell_type": "code",
   "execution_count": 5,
   "id": "0ac8d8bc",
   "metadata": {
    "execution": {
     "iopub.execute_input": "2022-08-26T12:05:01.342286Z",
     "iopub.status.busy": "2022-08-26T12:05:01.341575Z",
     "iopub.status.idle": "2022-08-26T12:05:01.351439Z",
     "shell.execute_reply": "2022-08-26T12:05:01.350071Z"
    },
    "papermill": {
     "duration": 0.023297,
     "end_time": "2022-08-26T12:05:01.354883",
     "exception": false,
     "start_time": "2022-08-26T12:05:01.331586",
     "status": "completed"
    },
    "tags": []
   },
   "outputs": [],
   "source": [
    "# there are missing values in test set\n",
    "test[test.Fare.isnull()]\n",
    "\n",
    "# fill missing values with the median within Pclass = 3\n",
    "# filling done separately on test set (we do not want to influence test set with training and vice versa)\n",
    "test.loc[test.Fare.isnull(), 'Fare'] = test.loc[test.Pclass == 3, 'Fare'].median()"
   ]
  },
  {
   "cell_type": "code",
   "execution_count": 6,
   "id": "37de10a0",
   "metadata": {
    "execution": {
     "iopub.execute_input": "2022-08-26T12:05:01.374891Z",
     "iopub.status.busy": "2022-08-26T12:05:01.374187Z",
     "iopub.status.idle": "2022-08-26T12:05:01.739270Z",
     "shell.execute_reply": "2022-08-26T12:05:01.737881Z"
    },
    "papermill": {
     "duration": 0.377816,
     "end_time": "2022-08-26T12:05:01.741879",
     "exception": false,
     "start_time": "2022-08-26T12:05:01.364063",
     "status": "completed"
    },
    "tags": []
   },
   "outputs": [
    {
     "data": {
      "image/png": "[encoded data removed]",
      "text/plain": [
       "<Figure size 432x288 with 1 Axes>"
      ]
     },
     "metadata": {
      "needs_background": "light"
     },
     "output_type": "display_data"
    },
    {
     "name": "stdout",
     "output_type": "stream",
     "text": [
      "Lower whisker:  0.0\n",
      "Upper whisker:  65.0\n"
     ]
    },
    {
     "data": {
      "image/png": "[encoded data removed]",
      "text/plain": [
       "<Figure size 432x288 with 1 Axes>"
      ]
     },
     "metadata": {
      "needs_background": "light"
     },
     "output_type": "display_data"
    }
   ],
   "source": [
    "### test set\n",
    "plt.boxplot(test.Fare)\n",
    "plt.show()\n",
    "\n",
    "test = remove_fare_outliers(test)\n",
    "plt.boxplot(test.Fare_wt_outliers)\n",
    "plt.show()"
   ]
  },
  {
   "cell_type": "code",
   "execution_count": 7,
   "id": "1ebb2276",
   "metadata": {
    "execution": {
     "iopub.execute_input": "2022-08-26T12:05:01.761453Z",
     "iopub.status.busy": "2022-08-26T12:05:01.761022Z",
     "iopub.status.idle": "2022-08-26T12:05:01.772867Z",
     "shell.execute_reply": "2022-08-26T12:05:01.771802Z"
    },
    "papermill": {
     "duration": 0.024312,
     "end_time": "2022-08-26T12:05:01.775204",
     "exception": false,
     "start_time": "2022-08-26T12:05:01.750892",
     "status": "completed"
    },
    "tags": []
   },
   "outputs": [
    {
     "data": {
      "text/plain": [
       "True"
      ]
     },
     "execution_count": 7,
     "metadata": {},
     "output_type": "execute_result"
    }
   ],
   "source": [
    "# split dt into train and validation sets\n",
    "train = dt.sample(frac=0.8, random_state=0)\n",
    "validation = dt.drop(train.index)\n",
    "\n",
    "len(train) + len(validation) == len(dt)"
   ]
  },
  {
   "cell_type": "code",
   "execution_count": 8,
   "id": "6242dd08",
   "metadata": {
    "execution": {
     "iopub.execute_input": "2022-08-26T12:05:01.798376Z",
     "iopub.status.busy": "2022-08-26T12:05:01.796172Z",
     "iopub.status.idle": "2022-08-26T12:05:01.804400Z",
     "shell.execute_reply": "2022-08-26T12:05:01.803573Z"
    },
    "papermill": {
     "duration": 0.022341,
     "end_time": "2022-08-26T12:05:01.806541",
     "exception": false,
     "start_time": "2022-08-26T12:05:01.784200",
     "status": "completed"
    },
    "tags": []
   },
   "outputs": [],
   "source": [
    "# store accuracy results for each model\n",
    "accuracy_results = pd.DataFrame(columns=['model', 'features', 'train_acc', 'validation_acc', 'test_acc'])"
   ]
  },
  {
   "cell_type": "code",
   "execution_count": 9,
   "id": "13265c3a",
   "metadata": {
    "execution": {
     "iopub.execute_input": "2022-08-26T12:05:01.827230Z",
     "iopub.status.busy": "2022-08-26T12:05:01.826778Z",
     "iopub.status.idle": "2022-08-26T12:05:01.838002Z",
     "shell.execute_reply": "2022-08-26T12:05:01.837093Z"
    },
    "papermill": {
     "duration": 0.024589,
     "end_time": "2022-08-26T12:05:01.840264",
     "exception": false,
     "start_time": "2022-08-26T12:05:01.815675",
     "status": "completed"
    },
    "tags": []
   },
   "outputs": [],
   "source": [
    "# pipeline functions\n",
    "def create_and_fit_decision_tree(data, X, Y, criterion, show_plot=True):\n",
    "    model = tree.DecisionTreeClassifier(criterion=criterion)\n",
    "    model.fit(data[X],data[Y])   \n",
    "    if show_plot == True:\n",
    "        plt.figure(figsize=(len(X)*5,len(X)*5))\n",
    "        tree.plot_tree(model, feature_names=X)\n",
    "        plt.show()\n",
    "    return model\n",
    "   \n",
    "def calculate_prediction(model, data, features):\n",
    "    return model.predict(data[features])\n",
    "\n",
    "def calculate_accuracy(set_name, y_true, y_pred):\n",
    "    vol = accuracy_score(y_true, y_pred, normalize=False)\n",
    "    frac = accuracy_score(y_true, y_pred, normalize=True)\n",
    "    print(set_name, \": \", vol, \" correctly classified samples - \", round(100*frac,2), \"%\")\n",
    "    return frac\n",
    "    \n",
    "def create_submission(model, test_data, X):\n",
    "    prediction = pd.Series(model.predict(test_data[X]))\n",
    "    subm = pd.concat([test.PassengerId, prediction], axis=1)\n",
    "    subm.columns = ['PassengerId', 'Survived']\n",
    "    return subm\n",
    "\n",
    "def store_accuracy_results(accuracy_results, model_name, X, train_acc, validation_acc, test_acc):\n",
    "    return accuracy_results.append({'model': model_name,\n",
    "                                    'features': X,\n",
    "                                    'train_acc': train_acc, \n",
    "                                    'validation_acc': validation_acc, \n",
    "                                    'test_acc': test_acc}, ignore_index = True)"
   ]
  },
  {
   "cell_type": "code",
   "execution_count": 10,
   "id": "9bc4c0c6",
   "metadata": {
    "execution": {
     "iopub.execute_input": "2022-08-26T12:05:01.860096Z",
     "iopub.status.busy": "2022-08-26T12:05:01.859697Z",
     "iopub.status.idle": "2022-08-26T12:05:01.866039Z",
     "shell.execute_reply": "2022-08-26T12:05:01.865199Z"
    },
    "papermill": {
     "duration": 0.018697,
     "end_time": "2022-08-26T12:05:01.868037",
     "exception": false,
     "start_time": "2022-08-26T12:05:01.849340",
     "status": "completed"
    },
    "tags": []
   },
   "outputs": [],
   "source": [
    "# pipeline\n",
    "def run_dt(train, validation, X, Y, criterion, show_plot=True):\n",
    "    # create and train the tree\n",
    "    model = create_and_fit_decision_tree(train, X, Y, criterion, show_plot)\n",
    "\n",
    "    # create prediction on train and validation sets\n",
    "    train_predict = calculate_prediction(model, train, X)\n",
    "    validation_predict = calculate_prediction(model, validation, X)\n",
    "\n",
    "    # print accuracy of the prediction\n",
    "    train_acc = calculate_accuracy(\"Train\", train[Y], train_predict)\n",
    "    validation_acc = calculate_accuracy(\"Validation\", validation[Y], validation_predict)\n",
    "    \n",
    "    return model, train_acc, validation_acc"
   ]
  },
  {
   "cell_type": "markdown",
   "id": "825af146",
   "metadata": {
    "papermill": {
     "duration": 0.009014,
     "end_time": "2022-08-26T12:05:01.886397",
     "exception": false,
     "start_time": "2022-08-26T12:05:01.877383",
     "status": "completed"
    },
    "tags": []
   },
   "source": [
    "# Decision Tree 1\n",
    "\n",
    "Features: Sex_bin\n",
    "\n",
    "Criterion: Gini impurity"
   ]
  },
  {
   "cell_type": "code",
   "execution_count": 11,
   "id": "96238050",
   "metadata": {
    "execution": {
     "iopub.execute_input": "2022-08-26T12:05:01.907135Z",
     "iopub.status.busy": "2022-08-26T12:05:01.906175Z",
     "iopub.status.idle": "2022-08-26T12:05:02.183779Z",
     "shell.execute_reply": "2022-08-26T12:05:02.182491Z"
    },
    "papermill": {
     "duration": 0.290943,
     "end_time": "2022-08-26T12:05:02.186424",
     "exception": false,
     "start_time": "2022-08-26T12:05:01.895481",
     "status": "completed"
    },
    "tags": []
   },
   "outputs": [
    {
     "data": {
      "image/png": "[encoded data removed]",
      "text/plain": [
       "<Figure size 360x360 with 1 Axes>"
      ]
     },
     "metadata": {
      "needs_background": "light"
     },
     "output_type": "display_data"
    },
    {
     "name": "stdout",
     "output_type": "stream",
     "text": [
      "Train :  559  correctly classified samples -  78.4 %\n",
      "Validation :  142  correctly classified samples -  79.78 %\n"
     ]
    }
   ],
   "source": [
    "X1 = ['Sex_bin']\n",
    "Y = 'Survived'\n",
    "criterion = \"gini\"\n",
    "\n",
    "dtree1, train_acc1, validation_acc1 = run_dt(train, validation, X1, Y, criterion)\n",
    "# value array tells how many samples fall into each to-be-predicted category (value = [549, 342] means that\n",
    "# there are 549 0s and 342 1s)\n",
    "# gini index drops with the division of the node -> good\n",
    "subm1 = create_submission(dtree1, test, X1)\n",
    "subm1.to_csv('submission1.csv', index=False)\n",
    "# test submission resulted in 0.76555\n",
    "\n",
    "# store accuracy\n",
    "accuracy_results = store_accuracy_results(accuracy_results, 'dtree1', X1, train_acc1, validation_acc1, test_acc=0.76555)"
   ]
  },
  {
   "cell_type": "markdown",
   "id": "ba08657e",
   "metadata": {
    "papermill": {
     "duration": 0.009181,
     "end_time": "2022-08-26T12:05:02.205286",
     "exception": false,
     "start_time": "2022-08-26T12:05:02.196105",
     "status": "completed"
    },
    "tags": []
   },
   "source": [
    "## Gini index"
   ]
  },
  {
   "cell_type": "code",
   "execution_count": 12,
   "id": "f7f67b0e",
   "metadata": {
    "execution": {
     "iopub.execute_input": "2022-08-26T12:05:02.226646Z",
     "iopub.status.busy": "2022-08-26T12:05:02.226201Z",
     "iopub.status.idle": "2022-08-26T12:05:02.448718Z",
     "shell.execute_reply": "2022-08-26T12:05:02.447806Z"
    },
    "papermill": {
     "duration": 0.2358,
     "end_time": "2022-08-26T12:05:02.451155",
     "exception": false,
     "start_time": "2022-08-26T12:05:02.215355",
     "status": "completed"
    },
    "tags": []
   },
   "outputs": [
    {
     "data": {
      "text/plain": [
       "[<matplotlib.lines.Line2D at 0x7f50551bef50>]"
      ]
     },
     "execution_count": 12,
     "metadata": {},
     "output_type": "execute_result"
    },
    {
     "data": {
      "image/png": "[encoded data removed]",
      "text/plain": [
       "<Figure size 432x288 with 1 Axes>"
      ]
     },
     "metadata": {
      "needs_background": "light"
     },
     "output_type": "display_data"
    }
   ],
   "source": [
    "###  Gini index - visualization on dummy data\n",
    "n = 100\n",
    "# create 101 classes of different proportions of 0s and 1s\n",
    "classes = pd.DataFrame(data=np.zeros(shape=(n,n+1)),columns = ['c'+str(k) for k in range(n+1)])\n",
    "for k in range(1,n+1):\n",
    "    classes['c'+str(k)].iloc[0:k] = 1\n",
    "# print(classes)\n",
    "cnt = classes.sum()\n",
    "\n",
    "# calculate prob of 0 and 1 for each node\n",
    "probs_0 = [(n-c)/n for c in cnt]\n",
    "probs_1 = [c/n for c in cnt]\n",
    "\n",
    "# Gini formula for node (class) with given no of 0s and 1s = 1-(P(0)^2+P(1)^2), \n",
    "# where P - probability function (based on frequency)\n",
    "# In general, Gini formula for class c: G(c)= 1-sum{k in 1..n} P(k)^2, where n is number of different elements in class c\n",
    "\n",
    "gini_index = [1 - (probs_0[k]**2 + probs_1[k]**2) for k in range(n+1)]\n",
    "plt.plot(gini_index)\n",
    "\n",
    "# The closer Gini index is to 0, the more purity we have in the node of the tree"
   ]
  },
  {
   "cell_type": "markdown",
   "id": "f02080f4",
   "metadata": {
    "papermill": {
     "duration": 0.009568,
     "end_time": "2022-08-26T12:05:02.470868",
     "exception": false,
     "start_time": "2022-08-26T12:05:02.461300",
     "status": "completed"
    },
    "tags": []
   },
   "source": [
    "# Decision Tree 2\n",
    "\n",
    "Features: Sex_bin\n",
    "\n",
    "Criterion: entropy"
   ]
  },
  {
   "cell_type": "code",
   "execution_count": 13,
   "id": "8baed67e",
   "metadata": {
    "execution": {
     "iopub.execute_input": "2022-08-26T12:05:02.492610Z",
     "iopub.status.busy": "2022-08-26T12:05:02.492202Z",
     "iopub.status.idle": "2022-08-26T12:05:02.763034Z",
     "shell.execute_reply": "2022-08-26T12:05:02.761508Z"
    },
    "papermill": {
     "duration": 0.284707,
     "end_time": "2022-08-26T12:05:02.765530",
     "exception": false,
     "start_time": "2022-08-26T12:05:02.480823",
     "status": "completed"
    },
    "tags": []
   },
   "outputs": [
    {
     "data": {
      "image/png": "[encoded data removed]",
      "text/plain": [
       "<Figure size 360x360 with 1 Axes>"
      ]
     },
     "metadata": {
      "needs_background": "light"
     },
     "output_type": "display_data"
    },
    {
     "name": "stdout",
     "output_type": "stream",
     "text": [
      "Train :  559  correctly classified samples -  78.4 %\n",
      "Validation :  142  correctly classified samples -  79.78 %\n",
      "True\n"
     ]
    }
   ],
   "source": [
    "X2 = ['Sex_bin']\n",
    "Y = 'Survived'\n",
    "criterion = \"entropy\"\n",
    "\n",
    "dtree2, train_acc2, validation_acc2 = run_dt(train, validation, X2, Y, criterion)\n",
    "subm2 = create_submission(dtree2, test, X2)\n",
    "print(all(subm2 == subm1))\n",
    "# identical submission to subm1\n",
    "\n",
    "accuracy_results = store_accuracy_results(accuracy_results, 'dtree2', X2, train_acc2, validation_acc2, test_acc=0.76555)"
   ]
  },
  {
   "cell_type": "code",
   "execution_count": 14,
   "id": "d7d411d5",
   "metadata": {
    "execution": {
     "iopub.execute_input": "2022-08-26T12:05:02.788738Z",
     "iopub.status.busy": "2022-08-26T12:05:02.788038Z",
     "iopub.status.idle": "2022-08-26T12:05:02.975184Z",
     "shell.execute_reply": "2022-08-26T12:05:02.973926Z"
    },
    "papermill": {
     "duration": 0.201589,
     "end_time": "2022-08-26T12:05:02.977783",
     "exception": false,
     "start_time": "2022-08-26T12:05:02.776194",
     "status": "completed"
    },
    "tags": []
   },
   "outputs": [
    {
     "data": {
      "text/plain": [
       "[<matplotlib.lines.Line2D at 0x7f50550b70d0>]"
      ]
     },
     "execution_count": 14,
     "metadata": {},
     "output_type": "execute_result"
    },
    {
     "data": {
      "image/png": "[encoded data removed]",
      "text/plain": [
       "<Figure size 432x288 with 1 Axes>"
      ]
     },
     "metadata": {
      "needs_background": "light"
     },
     "output_type": "display_data"
    }
   ],
   "source": [
    "### entropy - visualization on dummy data\n",
    "from math import log2\n",
    "\n",
    "entropy = [-(probs_0[k]*log2(probs_0[k]) + probs_1[k]*log2(probs_1[k])) for k in range(1,n)] # for k=0 and k=n+1 log doesnt exist\n",
    "plt.plot(entropy)"
   ]
  },
  {
   "cell_type": "markdown",
   "id": "2562738f",
   "metadata": {
    "papermill": {
     "duration": 0.010457,
     "end_time": "2022-08-26T12:05:02.999153",
     "exception": false,
     "start_time": "2022-08-26T12:05:02.988696",
     "status": "completed"
    },
    "tags": []
   },
   "source": [
    "# Decision Tree 3\n",
    "\n",
    "Features: Sex_bin, Pclass\n",
    "\n",
    "Criterion: gini"
   ]
  },
  {
   "cell_type": "code",
   "execution_count": 15,
   "id": "bb47abf2",
   "metadata": {
    "execution": {
     "iopub.execute_input": "2022-08-26T12:05:03.022732Z",
     "iopub.status.busy": "2022-08-26T12:05:03.022110Z",
     "iopub.status.idle": "2022-08-26T12:05:03.052357Z",
     "shell.execute_reply": "2022-08-26T12:05:03.051148Z"
    },
    "papermill": {
     "duration": 0.044894,
     "end_time": "2022-08-26T12:05:03.054767",
     "exception": false,
     "start_time": "2022-08-26T12:05:03.009873",
     "status": "completed"
    },
    "tags": []
   },
   "outputs": [
    {
     "data": {
      "text/html": [
       "<div>\n",
       "<style scoped>\n",
       "    .dataframe tbody tr th:only-of-type {\n",
       "        vertical-align: middle;\n",
       "    }\n",
       "\n",
       "    .dataframe tbody tr th {\n",
       "        vertical-align: top;\n",
       "    }\n",
       "\n",
       "    .dataframe thead th {\n",
       "        text-align: right;\n",
       "    }\n",
       "</style>\n",
       "<table border=\"1\" class=\"dataframe\">\n",
       "  <thead>\n",
       "    <tr style=\"text-align: right;\">\n",
       "      <th>Pclass</th>\n",
       "      <th>1</th>\n",
       "      <th>2</th>\n",
       "      <th>3</th>\n",
       "    </tr>\n",
       "    <tr>\n",
       "      <th>Sex</th>\n",
       "      <th></th>\n",
       "      <th></th>\n",
       "      <th></th>\n",
       "    </tr>\n",
       "  </thead>\n",
       "  <tbody>\n",
       "    <tr>\n",
       "      <th>female</th>\n",
       "      <td>74</td>\n",
       "      <td>59</td>\n",
       "      <td>116</td>\n",
       "    </tr>\n",
       "    <tr>\n",
       "      <th>male</th>\n",
       "      <td>96</td>\n",
       "      <td>83</td>\n",
       "      <td>285</td>\n",
       "    </tr>\n",
       "  </tbody>\n",
       "</table>\n",
       "</div>"
      ],
      "text/plain": [
       "Pclass   1   2    3\n",
       "Sex                \n",
       "female  74  59  116\n",
       "male    96  83  285"
      ]
     },
     "execution_count": 15,
     "metadata": {},
     "output_type": "execute_result"
    }
   ],
   "source": [
    "# contingency table (crosstab)\n",
    "sex_vs_pclass = pd.pivot_table(train, values='PassengerId', index='Sex', columns='Pclass', aggfunc='count')\n",
    "sex_vs_pclass"
   ]
  },
  {
   "cell_type": "code",
   "execution_count": 16,
   "id": "2d68a2e5",
   "metadata": {
    "execution": {
     "iopub.execute_input": "2022-08-26T12:05:03.078580Z",
     "iopub.status.busy": "2022-08-26T12:05:03.078142Z",
     "iopub.status.idle": "2022-08-26T12:05:03.089331Z",
     "shell.execute_reply": "2022-08-26T12:05:03.087891Z"
    },
    "papermill": {
     "duration": 0.026133,
     "end_time": "2022-08-26T12:05:03.091942",
     "exception": false,
     "start_time": "2022-08-26T12:05:03.065809",
     "status": "completed"
    },
    "tags": []
   },
   "outputs": [
    {
     "name": "stdout",
     "output_type": "stream",
     "text": [
      "p-value:  0.0006667944244384897\n",
      "Cramer's V:  0.1432250141596954\n"
     ]
    }
   ],
   "source": [
    "import scipy.stats as stats\n",
    "\n",
    "# chi-squared test statistic, sample size, and minimum of rows and columns\n",
    "chi2, pval, _, _ = stats.chi2_contingency(sex_vs_pclass, correction=False)\n",
    "# H0: there is no dependence between sex and pclass\n",
    "# p = probability that the dependence is caused by random noise; if p<0.05, we can deny H0\n",
    "print(\"p-value: \", pval)\n",
    "\n",
    "# chi2 is affected by sample size and no of rows and columns \n",
    "# Cramer's V attempts to adjust for these\n",
    "n = np.sum(sex_vs_pclass).sum() \n",
    "minDim = min(sex_vs_pclass.shape)-1 # no of degrees of freedom\n",
    "\n",
    "# calculate Cramer's V - effect size measurement that tells how strong the relationship is\n",
    "V = np.sqrt((chi2/n) / minDim)\n",
    "print(\"Cramer's V: \", V)\n",
    "# 0 - no correlation, 1 - strong correlation\n",
    "\n",
    "# interpretation of Cramer's V depends on no of degrees of freedom\n",
    "# there are many rules of thumb but in general for df=1 V=0.14 is pretty small"
   ]
  },
  {
   "cell_type": "code",
   "execution_count": 17,
   "id": "0ac30104",
   "metadata": {
    "execution": {
     "iopub.execute_input": "2022-08-26T12:05:03.116093Z",
     "iopub.status.busy": "2022-08-26T12:05:03.115710Z",
     "iopub.status.idle": "2022-08-26T12:05:03.752685Z",
     "shell.execute_reply": "2022-08-26T12:05:03.751219Z"
    },
    "papermill": {
     "duration": 0.65251,
     "end_time": "2022-08-26T12:05:03.755491",
     "exception": false,
     "start_time": "2022-08-26T12:05:03.102981",
     "status": "completed"
    },
    "tags": []
   },
   "outputs": [
    {
     "data": {
      "image/png": "[encoded data removed]",
      "text/plain": [
       "<Figure size 720x720 with 1 Axes>"
      ]
     },
     "metadata": {
      "needs_background": "light"
     },
     "output_type": "display_data"
    },
    {
     "name": "stdout",
     "output_type": "stream",
     "text": [
      "Train :  573  correctly classified samples -  80.36 %\n",
      "Validation :  128  correctly classified samples -  71.91 %\n"
     ]
    }
   ],
   "source": [
    "X3 = ['Sex_bin', 'Pclass']\n",
    "Y = 'Survived'\n",
    "criterion = \"gini\"\n",
    "\n",
    "dtree3, train_acc3, validation_acc3 = run_dt(train, validation, X3, Y, criterion)\n",
    "subm3 = create_submission(dtree3, test, X3)\n",
    "subm3.to_csv('submission3.csv', index=False)\n",
    "# train fits better, validation worse - suggest overfitting\n",
    "# test submission 0.77511 (only slightly better\n",
    "\n",
    "accuracy_results = store_accuracy_results(accuracy_results, 'dtree3', X3, train_acc3, validation_acc3, test_acc=0.77511)"
   ]
  },
  {
   "cell_type": "markdown",
   "id": "b7dfe8ec",
   "metadata": {
    "papermill": {
     "duration": 0.011341,
     "end_time": "2022-08-26T12:05:03.779211",
     "exception": false,
     "start_time": "2022-08-26T12:05:03.767870",
     "status": "completed"
    },
    "tags": []
   },
   "source": [
    "# Decision Tree 4\n",
    "\n",
    "Features: Sex_bin, Pclass, Fare\n",
    "\n",
    "Criterion: gini"
   ]
  },
  {
   "cell_type": "code",
   "execution_count": 18,
   "id": "3f68354f",
   "metadata": {
    "execution": {
     "iopub.execute_input": "2022-08-26T12:05:03.804457Z",
     "iopub.status.busy": "2022-08-26T12:05:03.804024Z",
     "iopub.status.idle": "2022-08-26T12:05:04.333660Z",
     "shell.execute_reply": "2022-08-26T12:05:04.332626Z"
    },
    "papermill": {
     "duration": 0.54522,
     "end_time": "2022-08-26T12:05:04.336092",
     "exception": false,
     "start_time": "2022-08-26T12:05:03.790872",
     "status": "completed"
    },
    "tags": []
   },
   "outputs": [
    {
     "data": {
      "image/png": "[encoded data removed]",
      "text/plain": [
       "<Figure size 432x288 with 1 Axes>"
      ]
     },
     "metadata": {
      "needs_background": "light"
     },
     "output_type": "display_data"
    },
    {
     "data": {
      "image/png": "[encoded data removed]",
      "text/plain": [
       "<Figure size 432x288 with 3 Axes>"
      ]
     },
     "metadata": {
      "needs_background": "light"
     },
     "output_type": "display_data"
    }
   ],
   "source": [
    "# plot Pclass vs Fare amount to see if there is any correspondence\n",
    "plt.scatter(train.Pclass, train.Fare)\n",
    "plt.show()\n",
    "\n",
    "# use boxplot to have more insight\n",
    "# train[['Pclass','Fare']].boxplot(column='Fare',by='Pclass')\n",
    "\n",
    "fig, (ax1, ax2, ax3) = plt.subplots(1, 3)\n",
    "fig.suptitle('Fare vs Pclass')\n",
    "ax1.boxplot(x=train.Fare[train.Pclass==1])\n",
    "ax2.boxplot(x=train.Fare[train.Pclass==2])\n",
    "ax3.boxplot(x=train.Fare[train.Pclass==3])\n",
    "plt.show()\n",
    "# Fare clearly depends on the Pclass, there are only few outliers"
   ]
  },
  {
   "cell_type": "code",
   "execution_count": 19,
   "id": "d7acf3f7",
   "metadata": {
    "execution": {
     "iopub.execute_input": "2022-08-26T12:05:04.362672Z",
     "iopub.status.busy": "2022-08-26T12:05:04.362269Z",
     "iopub.status.idle": "2022-08-26T12:05:04.384126Z",
     "shell.execute_reply": "2022-08-26T12:05:04.382893Z"
    },
    "papermill": {
     "duration": 0.037868,
     "end_time": "2022-08-26T12:05:04.386444",
     "exception": false,
     "start_time": "2022-08-26T12:05:04.348576",
     "status": "completed"
    },
    "tags": []
   },
   "outputs": [
    {
     "data": {
      "text/html": [
       "<div>\n",
       "<style scoped>\n",
       "    .dataframe tbody tr th:only-of-type {\n",
       "        vertical-align: middle;\n",
       "    }\n",
       "\n",
       "    .dataframe tbody tr th {\n",
       "        vertical-align: top;\n",
       "    }\n",
       "\n",
       "    .dataframe thead th {\n",
       "        text-align: right;\n",
       "    }\n",
       "</style>\n",
       "<table border=\"1\" class=\"dataframe\">\n",
       "  <thead>\n",
       "    <tr style=\"text-align: right;\">\n",
       "      <th></th>\n",
       "      <th>PassengerId</th>\n",
       "      <th>Pclass</th>\n",
       "      <th>Name</th>\n",
       "      <th>Sex</th>\n",
       "      <th>Age</th>\n",
       "      <th>SibSp</th>\n",
       "      <th>Parch</th>\n",
       "      <th>Ticket</th>\n",
       "      <th>Fare</th>\n",
       "      <th>Cabin</th>\n",
       "      <th>Embarked</th>\n",
       "      <th>Sex_bin</th>\n",
       "      <th>Fare_wt_outliers</th>\n",
       "    </tr>\n",
       "  </thead>\n",
       "  <tbody>\n",
       "  </tbody>\n",
       "</table>\n",
       "</div>"
      ],
      "text/plain": [
       "Empty DataFrame\n",
       "Columns: [PassengerId, Pclass, Name, Sex, Age, SibSp, Parch, Ticket, Fare, Cabin, Embarked, Sex_bin, Fare_wt_outliers]\n",
       "Index: []"
      ]
     },
     "execution_count": 19,
     "metadata": {},
     "output_type": "execute_result"
    }
   ],
   "source": [
    "# calculate mean fare value by class\n",
    "mean_fare_by_pclass = test.groupby(by='Pclass').mean().Fare.to_dict()\n",
    "# replace null values\n",
    "test.Fare.fillna(test.Pclass.map(mean_fare_by_pclass), inplace=True)\n",
    "test[test.Fare.isnull()]"
   ]
  },
  {
   "cell_type": "code",
   "execution_count": 20,
   "id": "f1986b1b",
   "metadata": {
    "execution": {
     "iopub.execute_input": "2022-08-26T12:05:04.412429Z",
     "iopub.status.busy": "2022-08-26T12:05:04.412045Z",
     "iopub.status.idle": "2022-08-26T12:05:04.435994Z",
     "shell.execute_reply": "2022-08-26T12:05:04.434609Z"
    },
    "papermill": {
     "duration": 0.039964,
     "end_time": "2022-08-26T12:05:04.438646",
     "exception": false,
     "start_time": "2022-08-26T12:05:04.398682",
     "status": "completed"
    },
    "tags": []
   },
   "outputs": [
    {
     "name": "stdout",
     "output_type": "stream",
     "text": [
      "Train :  648  correctly classified samples -  90.88 %\n",
      "Validation :  141  correctly classified samples -  79.21 %\n"
     ]
    }
   ],
   "source": [
    "# test if adding correlated information causes overfitting\n",
    "X4 = ['Sex_bin', 'Pclass', 'Fare']\n",
    "Y = 'Survived'\n",
    "criterion = \"gini\"\n",
    "\n",
    "dtree4, train_acc4, validation_acc4 = run_dt(train, validation, X4, Y, criterion, show_plot=False)\n",
    "subm4 = create_submission(dtree4, test, X4)\n",
    "subm4.to_csv('submission4.csv', index=False)\n",
    "\n",
    "# train and validation results a lot better (unexpected for validation), test result - worse (quite expected)\n",
    "accuracy_results = store_accuracy_results(accuracy_results, 'dtree4', X4, train_acc4, validation_acc4, test_acc=0.76076)"
   ]
  },
  {
   "cell_type": "markdown",
   "id": "c34b8727",
   "metadata": {
    "papermill": {
     "duration": 0.012403,
     "end_time": "2022-08-26T12:05:04.463425",
     "exception": false,
     "start_time": "2022-08-26T12:05:04.451022",
     "status": "completed"
    },
    "tags": []
   },
   "source": [
    "# Decision Tree 5\n",
    "\n",
    "Features: Sex_bin, Fare\n",
    "\n",
    "Criterion: gini"
   ]
  },
  {
   "cell_type": "code",
   "execution_count": 21,
   "id": "28d1669d",
   "metadata": {
    "execution": {
     "iopub.execute_input": "2022-08-26T12:05:04.491006Z",
     "iopub.status.busy": "2022-08-26T12:05:04.489995Z",
     "iopub.status.idle": "2022-08-26T12:05:04.516139Z",
     "shell.execute_reply": "2022-08-26T12:05:04.514568Z"
    },
    "papermill": {
     "duration": 0.042809,
     "end_time": "2022-08-26T12:05:04.518601",
     "exception": false,
     "start_time": "2022-08-26T12:05:04.475792",
     "status": "completed"
    },
    "tags": []
   },
   "outputs": [
    {
     "name": "stdout",
     "output_type": "stream",
     "text": [
      "Train :  647  correctly classified samples -  90.74 %\n",
      "Validation :  142  correctly classified samples -  79.78 %\n"
     ]
    }
   ],
   "source": [
    "X5 = ['Sex_bin', 'Fare']\n",
    "Y = 'Survived'\n",
    "criterion = \"gini\"\n",
    "\n",
    "dtree5, train_acc5, validation_acc5 = run_dt(train, validation, X5, Y, criterion, show_plot=False)\n",
    "subm5 = create_submission(dtree5, test, X5)\n",
    "subm5.to_csv('submission5.csv', index=False)\n",
    "\n",
    "\n",
    "# train and validation results similar to dtree4, test result again worse\n",
    "accuracy_results = store_accuracy_results(accuracy_results, 'dtree5', X5, train_acc5, validation_acc5, test_acc=0.75837)\n"
   ]
  },
  {
   "cell_type": "code",
   "execution_count": 22,
   "id": "5762993a",
   "metadata": {
    "execution": {
     "iopub.execute_input": "2022-08-26T12:05:04.545881Z",
     "iopub.status.busy": "2022-08-26T12:05:04.545478Z",
     "iopub.status.idle": "2022-08-26T12:05:04.559204Z",
     "shell.execute_reply": "2022-08-26T12:05:04.558195Z"
    },
    "papermill": {
     "duration": 0.029307,
     "end_time": "2022-08-26T12:05:04.561300",
     "exception": false,
     "start_time": "2022-08-26T12:05:04.531993",
     "status": "completed"
    },
    "tags": []
   },
   "outputs": [
    {
     "data": {
      "text/html": [
       "<div>\n",
       "<style scoped>\n",
       "    .dataframe tbody tr th:only-of-type {\n",
       "        vertical-align: middle;\n",
       "    }\n",
       "\n",
       "    .dataframe tbody tr th {\n",
       "        vertical-align: top;\n",
       "    }\n",
       "\n",
       "    .dataframe thead th {\n",
       "        text-align: right;\n",
       "    }\n",
       "</style>\n",
       "<table border=\"1\" class=\"dataframe\">\n",
       "  <thead>\n",
       "    <tr style=\"text-align: right;\">\n",
       "      <th></th>\n",
       "      <th>model</th>\n",
       "      <th>features</th>\n",
       "      <th>train_acc</th>\n",
       "      <th>validation_acc</th>\n",
       "      <th>test_acc</th>\n",
       "    </tr>\n",
       "  </thead>\n",
       "  <tbody>\n",
       "    <tr>\n",
       "      <th>0</th>\n",
       "      <td>dtree1</td>\n",
       "      <td>[Sex_bin]</td>\n",
       "      <td>0.784011</td>\n",
       "      <td>0.797753</td>\n",
       "      <td>0.76555</td>\n",
       "    </tr>\n",
       "    <tr>\n",
       "      <th>1</th>\n",
       "      <td>dtree2</td>\n",
       "      <td>[Sex_bin]</td>\n",
       "      <td>0.784011</td>\n",
       "      <td>0.797753</td>\n",
       "      <td>0.76555</td>\n",
       "    </tr>\n",
       "    <tr>\n",
       "      <th>2</th>\n",
       "      <td>dtree3</td>\n",
       "      <td>[Sex_bin, Pclass]</td>\n",
       "      <td>0.803647</td>\n",
       "      <td>0.719101</td>\n",
       "      <td>0.77511</td>\n",
       "    </tr>\n",
       "    <tr>\n",
       "      <th>3</th>\n",
       "      <td>dtree4</td>\n",
       "      <td>[Sex_bin, Pclass, Fare]</td>\n",
       "      <td>0.908836</td>\n",
       "      <td>0.792135</td>\n",
       "      <td>0.76076</td>\n",
       "    </tr>\n",
       "    <tr>\n",
       "      <th>4</th>\n",
       "      <td>dtree5</td>\n",
       "      <td>[Sex_bin, Fare]</td>\n",
       "      <td>0.907433</td>\n",
       "      <td>0.797753</td>\n",
       "      <td>0.75837</td>\n",
       "    </tr>\n",
       "  </tbody>\n",
       "</table>\n",
       "</div>"
      ],
      "text/plain": [
       "    model                 features  train_acc  validation_acc  test_acc\n",
       "0  dtree1                [Sex_bin]   0.784011        0.797753   0.76555\n",
       "1  dtree2                [Sex_bin]   0.784011        0.797753   0.76555\n",
       "2  dtree3        [Sex_bin, Pclass]   0.803647        0.719101   0.77511\n",
       "3  dtree4  [Sex_bin, Pclass, Fare]   0.908836        0.792135   0.76076\n",
       "4  dtree5          [Sex_bin, Fare]   0.907433        0.797753   0.75837"
      ]
     },
     "execution_count": 22,
     "metadata": {},
     "output_type": "execute_result"
    }
   ],
   "source": [
    "accuracy_results"
   ]
  },
  {
   "cell_type": "markdown",
   "id": "a988583d",
   "metadata": {
    "papermill": {
     "duration": 0.012073,
     "end_time": "2022-08-26T12:05:04.585855",
     "exception": false,
     "start_time": "2022-08-26T12:05:04.573782",
     "status": "completed"
    },
    "tags": []
   },
   "source": [
    "# Decision Tree 6\n",
    "\n",
    "Features: Sex_bin, Pclass, Fare w/t outliers\n",
    "\n",
    "Criterion: gini"
   ]
  },
  {
   "cell_type": "code",
   "execution_count": 23,
   "id": "976dffa1",
   "metadata": {
    "execution": {
     "iopub.execute_input": "2022-08-26T12:05:04.612460Z",
     "iopub.status.busy": "2022-08-26T12:05:04.612045Z",
     "iopub.status.idle": "2022-08-26T12:05:04.634035Z",
     "shell.execute_reply": "2022-08-26T12:05:04.633179Z"
    },
    "papermill": {
     "duration": 0.038956,
     "end_time": "2022-08-26T12:05:04.637077",
     "exception": false,
     "start_time": "2022-08-26T12:05:04.598121",
     "status": "completed"
    },
    "tags": []
   },
   "outputs": [
    {
     "name": "stdout",
     "output_type": "stream",
     "text": [
      "Train :  639  correctly classified samples -  89.62 %\n",
      "Validation :  142  correctly classified samples -  79.78 %\n"
     ]
    }
   ],
   "source": [
    "X6 = ['Sex_bin', 'Pclass', 'Fare_wt_outliers']\n",
    "Y = 'Survived'\n",
    "criterion = \"gini\"\n",
    "\n",
    "dtree6, train_acc6, validation_acc6 = run_dt(train, validation, X6, Y, criterion, show_plot=False)\n",
    "subm6 = create_submission(dtree6, test, X6)\n",
    "subm6.to_csv('submission6.csv', index=False)\n",
    "\n",
    "# accuracy_results = store_accuracy_results(accuracy_results, 'dtree6', X6, train_acc6, validation_acc6, test_acc=[])"
   ]
  },
  {
   "cell_type": "markdown",
   "id": "935bba2e",
   "metadata": {
    "papermill": {
     "duration": 0.012377,
     "end_time": "2022-08-26T12:05:04.663065",
     "exception": false,
     "start_time": "2022-08-26T12:05:04.650688",
     "status": "completed"
    },
    "tags": []
   },
   "source": [
    "# Cross-validation"
   ]
  },
  {
   "cell_type": "code",
   "execution_count": 24,
   "id": "dd121a71",
   "metadata": {
    "execution": {
     "iopub.execute_input": "2022-08-26T12:05:04.690589Z",
     "iopub.status.busy": "2022-08-26T12:05:04.689587Z",
     "iopub.status.idle": "2022-08-26T12:05:05.045817Z",
     "shell.execute_reply": "2022-08-26T12:05:05.044658Z"
    },
    "papermill": {
     "duration": 0.37274,
     "end_time": "2022-08-26T12:05:05.048407",
     "exception": false,
     "start_time": "2022-08-26T12:05:04.675667",
     "status": "completed"
    },
    "tags": []
   },
   "outputs": [
    {
     "data": {
      "image/png": "[encoded data removed]",
      "text/plain": [
       "<Figure size 432x288 with 1 Axes>"
      ]
     },
     "metadata": {
      "needs_background": "light"
     },
     "output_type": "display_data"
    },
    {
     "name": "stdout",
     "output_type": "stream",
     "text": [
      "Average cv_score:\n",
      "dtree1    0.786737\n",
      "dtree3    0.773316\n",
      "dtree4    0.812629\n",
      "dtree5    0.801406\n",
      "dtree6    0.818197\n",
      "dtype: float64\n"
     ]
    }
   ],
   "source": [
    "from sklearn.model_selection import cross_val_score\n",
    "cv_score = {}\n",
    "cv_no = 5\n",
    "cv_score['dtree1'] = cross_val_score(dtree1, dt[X1], dt[Y], cv=cv_no)\n",
    "cv_score['dtree3'] = cross_val_score(dtree3, dt[X3], dt[Y], cv=cv_no)\n",
    "cv_score['dtree4'] = cross_val_score(dtree4, dt[X4], dt[Y], cv=cv_no)\n",
    "cv_score['dtree5'] = cross_val_score(dtree5, dt[X5], dt[Y], cv=cv_no)\n",
    "cv_score['dtree6'] = cross_val_score(dtree6, dt[X6], dt[Y], cv=cv_no)\n",
    "\n",
    "# plt.scatter(pd.DataFrame(cv_score))\n",
    "cv_score = pd.DataFrame(cv_score)\n",
    "for cv in cv_score.columns:\n",
    "    plt.scatter([cv]*cv_no, cv_score[cv])\n",
    "    plt.scatter(cv, cv_score[cv].mean(), marker='s')\n",
    "plt.show()\n",
    "\n",
    "print('Average cv_score:')\n",
    "print(cv_score.mean())"
   ]
  },
  {
   "cell_type": "code",
   "execution_count": 25,
   "id": "46710d39",
   "metadata": {
    "execution": {
     "iopub.execute_input": "2022-08-26T12:05:05.075963Z",
     "iopub.status.busy": "2022-08-26T12:05:05.075547Z",
     "iopub.status.idle": "2022-08-26T12:05:05.090583Z",
     "shell.execute_reply": "2022-08-26T12:05:05.089476Z"
    },
    "papermill": {
     "duration": 0.031472,
     "end_time": "2022-08-26T12:05:05.092732",
     "exception": false,
     "start_time": "2022-08-26T12:05:05.061260",
     "status": "completed"
    },
    "tags": []
   },
   "outputs": [
    {
     "data": {
      "text/html": [
       "<div>\n",
       "<style scoped>\n",
       "    .dataframe tbody tr th:only-of-type {\n",
       "        vertical-align: middle;\n",
       "    }\n",
       "\n",
       "    .dataframe tbody tr th {\n",
       "        vertical-align: top;\n",
       "    }\n",
       "\n",
       "    .dataframe thead th {\n",
       "        text-align: right;\n",
       "    }\n",
       "</style>\n",
       "<table border=\"1\" class=\"dataframe\">\n",
       "  <thead>\n",
       "    <tr style=\"text-align: right;\">\n",
       "      <th></th>\n",
       "      <th>model</th>\n",
       "      <th>features</th>\n",
       "      <th>train_acc</th>\n",
       "      <th>validation_acc</th>\n",
       "      <th>test_acc</th>\n",
       "    </tr>\n",
       "  </thead>\n",
       "  <tbody>\n",
       "    <tr>\n",
       "      <th>0</th>\n",
       "      <td>dtree1</td>\n",
       "      <td>[Sex_bin]</td>\n",
       "      <td>0.784011</td>\n",
       "      <td>0.797753</td>\n",
       "      <td>0.76555</td>\n",
       "    </tr>\n",
       "    <tr>\n",
       "      <th>1</th>\n",
       "      <td>dtree2</td>\n",
       "      <td>[Sex_bin]</td>\n",
       "      <td>0.784011</td>\n",
       "      <td>0.797753</td>\n",
       "      <td>0.76555</td>\n",
       "    </tr>\n",
       "    <tr>\n",
       "      <th>2</th>\n",
       "      <td>dtree3</td>\n",
       "      <td>[Sex_bin, Pclass]</td>\n",
       "      <td>0.803647</td>\n",
       "      <td>0.719101</td>\n",
       "      <td>0.77511</td>\n",
       "    </tr>\n",
       "    <tr>\n",
       "      <th>3</th>\n",
       "      <td>dtree4</td>\n",
       "      <td>[Sex_bin, Pclass, Fare]</td>\n",
       "      <td>0.908836</td>\n",
       "      <td>0.792135</td>\n",
       "      <td>0.76076</td>\n",
       "    </tr>\n",
       "    <tr>\n",
       "      <th>4</th>\n",
       "      <td>dtree5</td>\n",
       "      <td>[Sex_bin, Fare]</td>\n",
       "      <td>0.907433</td>\n",
       "      <td>0.797753</td>\n",
       "      <td>0.75837</td>\n",
       "    </tr>\n",
       "  </tbody>\n",
       "</table>\n",
       "</div>"
      ],
      "text/plain": [
       "    model                 features  train_acc  validation_acc  test_acc\n",
       "0  dtree1                [Sex_bin]   0.784011        0.797753   0.76555\n",
       "1  dtree2                [Sex_bin]   0.784011        0.797753   0.76555\n",
       "2  dtree3        [Sex_bin, Pclass]   0.803647        0.719101   0.77511\n",
       "3  dtree4  [Sex_bin, Pclass, Fare]   0.908836        0.792135   0.76076\n",
       "4  dtree5          [Sex_bin, Fare]   0.907433        0.797753   0.75837"
      ]
     },
     "execution_count": 25,
     "metadata": {},
     "output_type": "execute_result"
    }
   ],
   "source": [
    "accuracy_results\n",
    "# highest accuracy for dtree4 (with both Pclass and Fare)"
   ]
  },
  {
   "cell_type": "code",
   "execution_count": 26,
   "id": "0cce2cef",
   "metadata": {
    "execution": {
     "iopub.execute_input": "2022-08-26T12:05:05.120800Z",
     "iopub.status.busy": "2022-08-26T12:05:05.120360Z",
     "iopub.status.idle": "2022-08-26T12:05:05.129803Z",
     "shell.execute_reply": "2022-08-26T12:05:05.128717Z"
    },
    "papermill": {
     "duration": 0.026174,
     "end_time": "2022-08-26T12:05:05.132022",
     "exception": false,
     "start_time": "2022-08-26T12:05:05.105848",
     "status": "completed"
    },
    "tags": []
   },
   "outputs": [
    {
     "data": {
      "text/plain": [
       "495     NaN\n",
       "648     NaN\n",
       "278     7.0\n",
       "31      NaN\n",
       "255    29.0\n",
       "       ... \n",
       "25     38.0\n",
       "110    47.0\n",
       "149    42.0\n",
       "152    55.5\n",
       "528    39.0\n",
       "Name: Age, Length: 713, dtype: float64"
      ]
     },
     "execution_count": 26,
     "metadata": {},
     "output_type": "execute_result"
    }
   ],
   "source": [
    "train.Age"
   ]
  },
  {
   "cell_type": "code",
   "execution_count": null,
   "id": "e9498f0e",
   "metadata": {
    "papermill": {
     "duration": 0.012998,
     "end_time": "2022-08-26T12:05:05.158354",
     "exception": false,
     "start_time": "2022-08-26T12:05:05.145356",
     "status": "completed"
    },
    "tags": []
   },
   "outputs": [],
   "source": []
  }
 ],
 "metadata": {
  "kernelspec": {
   "display_name": "Python 3",
   "language": "python",
   "name": "python3"
  },
  "language_info": {
   "codemirror_mode": {
    "name": "ipython",
    "version": 3
   },
   "file_extension": ".py",
   "mimetype": "text/x-python",
   "name": "python",
   "nbconvert_exporter": "python",
   "pygments_lexer": "ipython3",
   "version": "3.7.12"
  },
  "papermill": {
   "default_parameters": {},
   "duration": 15.691181,
   "end_time": "2022-08-26T12:05:05.993891",
   "environment_variables": {},
   "exception": null,
   "input_path": "__notebook__.ipynb",
   "output_path": "__notebook__.ipynb",
   "parameters": {},
   "start_time": "2022-08-26T12:04:50.302710",
   "version": "2.3.4"
  }
 },
 "nbformat": 4,
 "nbformat_minor": 5
}
